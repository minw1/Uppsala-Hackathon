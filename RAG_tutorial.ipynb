{
 "cells": [
  {
   "cell_type": "code",
   "execution_count": 2,
   "id": "ae285ccf-a23b-40c9-8ece-c82772558ca7",
   "metadata": {},
   "outputs": [],
   "source": [
    "import getpass\n",
    "import os\n",
    "\n",
    "os.environ[\"LANGSMITH_TRACING\"] = \"true\"\n",
    "os.environ[\"LANGSMITH_API_KEY\"] = getpass.getpass()"
   ]
  },
  {
   "cell_type": "code",
   "execution_count": 3,
   "id": "100f6def-af19-417a-beee-dc125319923b",
   "metadata": {},
   "outputs": [
    {
     "name": "stderr",
     "output_type": "stream",
     "text": [
      "WARNING: All log messages before absl::InitializeLog() is called are written to STDERR\n",
      "E0000 00:00:1759305158.686294 15259046 alts_credentials.cc:93] ALTS creds ignored. Not running on GCP and untrusted ALTS is not enabled.\n"
     ]
    }
   ],
   "source": [
    "import getpass\n",
    "import os\n",
    "\n",
    "if not os.environ.get(\"GOOGLE_API_KEY\"):\n",
    "  os.environ[\"GOOGLE_API_KEY\"] = getpass.getpass(\"Enter API key for Google Gemini: \")\n",
    "\n",
    "from langchain.chat_models import init_chat_model\n",
    "\n",
    "llm = init_chat_model(\"gemini-2.5-flash\", model_provider=\"google_genai\")"
   ]
  },
  {
   "cell_type": "code",
   "execution_count": 4,
   "id": "269ecab9-d3ba-40b4-96ac-feb7b6346106",
   "metadata": {},
   "outputs": [
    {
     "name": "stderr",
     "output_type": "stream",
     "text": [
      "E0000 00:00:1759305163.380920 15259046 alts_credentials.cc:93] ALTS creds ignored. Not running on GCP and untrusted ALTS is not enabled.\n",
      "E0000 00:00:1759305163.382688 15259046 alts_credentials.cc:93] ALTS creds ignored. Not running on GCP and untrusted ALTS is not enabled.\n"
     ]
    }
   ],
   "source": [
    "import getpass\n",
    "import os\n",
    "\n",
    "if not os.environ.get(\"GOOGLE_API_KEY\"):\n",
    "  os.environ[\"GOOGLE_API_KEY\"] = getpass.getpass(\"Enter API key for Google Gemini: \")\n",
    "\n",
    "from langchain_google_genai import GoogleGenerativeAIEmbeddings\n",
    "\n",
    "embeddings = GoogleGenerativeAIEmbeddings(model=\"models/gemini-embedding-001\")"
   ]
  },
  {
   "cell_type": "code",
   "execution_count": 5,
   "id": "c2cfba7b-961d-4f40-8c97-6e8b099cfa6d",
   "metadata": {},
   "outputs": [],
   "source": [
    "from langchain_chroma import Chroma\n",
    "\n",
    "vector_store = Chroma(\n",
    "    collection_name=\"example_collection\",\n",
    "    embedding_function=embeddings,\n",
    "    persist_directory=\"./chroma_hackathon_db\",  # Where to save data locally, remove if not necessary\n",
    ")"
   ]
  },
  {
   "cell_type": "code",
   "execution_count": 8,
   "id": "3b81b80e-c6cf-452c-a087-ade75e21fdd9",
   "metadata": {},
   "outputs": [
    {
     "name": "stderr",
     "output_type": "stream",
     "text": [
      "USER_AGENT environment variable not set, consider setting it to identify your requests.\n"
     ]
    },
    {
     "name": "stdout",
     "output_type": "stream",
     "text": [
      "Total characters: 24410\n"
     ]
    }
   ],
   "source": [
    "from langchain_community.document_loaders import WebBaseLoader\n",
    "\n",
    "\n",
    "loader = WebBaseLoader(\n",
    "    web_paths=(\"https://www.uppsala.se/stod-och-omsorg/funktionsnedsattning/stod-och-omsorg-for-dig-med-funktionsnedsattning/\",),\n",
    "    bs_get_text_kwargs = {\"separator\":\" \",\"strip\":True}\n",
    ")\n",
    "docs = loader.load()\n",
    "\n",
    "assert len(docs) == 1\n",
    "print(f\"Total characters: {len(docs[0].page_content)}\")"
   ]
  },
  {
   "cell_type": "code",
   "execution_count": 9,
   "id": "a58e4c7d-75d2-4819-82db-4d6a180c3ef9",
   "metadata": {},
   "outputs": [
    {
     "name": "stdout",
     "output_type": "stream",
     "text": [
      "Stöd och omsorg för dig med funktionsnedsättning - Uppsala kommun Till sidans huvudinnehåll Sök efter innehåll på webbplatsen. När du börjar skriva i sökfältet kommer sökförslag att presenteras under fältet. Använd piltangenterna för att navigera mellan sökförslagen och enter för att välja något av dem. Sök Meny Stäng Uppsala kommun Uppsala kommun Bygga och bo Gator, trafik och resor Företag och näringsliv Kultur, idrott och fritid Stöd och omsorg Skola och förskola Jobba i Uppsala kommun Kommun och politik Bygga och bo Samhällsbyggnad och planering Hitta bostad och tomter Bygga, riva och installera Miljö och säkerhet Fastighetsägare Avfall och återvinning Vatten och avlopp Felanmälan Kartor och statistik Gator, trafik och resor Trafik och framkomlighet Cykla i Uppsala Parkera din cykel, bil eller andra fordon Underhåll av gator, gång- och cykelvägar Trafiksäkerhet och regler Företag och näringsliv Leverantör och utförare Näringsliv och företagande Tillstånd och regler – miljö och natur Tillstånd och regler – säkerhet och hälsa Tillstånd och regler – försäljning, livsmedel och servering Kultur, idrott och fritid Uppleva och göra Låna och skänka utrustning Boka lokal eller plats Arrangera evenemang Driva och hitta föreningar Hitta och söka stipendium Stöd och omsorg Vid en allvarlig händelse eller kris Funktionsnedsättning Färdtjänst God man och förvaltare Integration Omsorgspriset Parkeringstillstånd för dig som är rörelsehindrad Privatekonomi och ekonomiskt stöd Senior och äldreomsorg Socialt stöd till vuxna Synpunkter och förbättringsförslag på vården Stöd till barn, ungdom och familj Vigsel och begravning Avgifter för vård och omsorg Ny socialtjänstlag Skola och förskola Förskola och familjedaghem Grundskola, fritidshem och fritidsklubb Gymnasieskola Komvux Anpassad skola och fritidshem anpassad skola Elevhälsa E-tjänster för dig med barn eller ungdom i kommunal förskola eller skola Studie- och yrkesvägledning Pedagogiska priset Jobba i Uppsala kommun Yrkesområden Vikariat, praktik och tillfälliga jobb Arvoderade uppdrag Förmåner och lön Vår kultur och våra värderingar Så här fungerar det att söka jobb hos oss Introduktion för nyanställda Tips och hjälp Kommun och politik Så fungerar kommunen Organisation För dig som förtroendevald Kommunens mål och budget Arkiv och allmänna handlingar Så arbetar vi med Engagera dig och påverka Anslagstavla för beslut och kungörelser Stadshuset - din mötesplats Kartor och statistik Nyheter och pressmeddelanden Publikationer Gå direkt till Felanmälan Synpunkter Visselblåsarfunktion Suomeksi (finska) Språk (other languages) Anpassning och tillgänglighet Kakor på uppsala.se Vi använder nödvändiga kakor (cookies) för att webbplatsen ska fungera. Vi skulle vilja sätta lite fler kakor för olika funktioner som hjälper dig som användare. Vi vill också sätta kakor för statistik så vi kan analysera och förbättra webbplatsen. Du kan när du vill ändra dina inställningar. Läs om vilka kakor vi använder och ändra dina inställningar Tillåt alla kakor Tillåt endast nödvändiga kakor Du har valt att tillåta alla kakor. Du kan när du vill ändra dina inställningar. Ändra dina inställningar för kakor Stäng Stäng informationsruta om kakor (cookies) Startsidan / Stöd och omsorg / Funktionsnedsättning / Stöd och omsorg för dig med funktionsnedsättning Funktionsnedsättning Lyssna Stöd och omsorg för dig med funktionsnedsättning Här kan du läsa om stöd för dig som har en funktionsnedsättning och som bor i Uppsala kommun. Innehåll på sidan Stöd i hemmet Stöd utanför hemmet Arbete och studier Olika typer av boende Sjukvård, rehabilitering och hjälpmedel Stöd för dig som är anhörig Resor och parkering Om ansökan och avgifter Har du frågor? Prata med oss! Stöd i hemmet Stöd för att du ska kunna bo kvar hemma på ett tryggt och självständigt sätt. Du kan till exempel få hjälp med personlig omvårdnad, att handla eller att göra bostaden mer anpassad för dina behov. Boendestöd Hjälp att göra saker i vardagen. Att ha boendestöd betyder att en person hjälper dig att göra saker i vardagen. Personen kallas för boendestödjare. En boendestödjare kan exempelvis hjälpa dig med att göra ärenden öppna och hantera post städa göra en veckoplanering motivera dig att komma iväg till olika aktiviteter. Målet med boendestöd är att du ska kunna göra fler saker själv. Boendestöd finns för dig med psykisk, neuropsykiatrisk eller intellektuell funktionsnedsättning. För att få boendestöd behöver du ett biståndsbeslut. Boendestöd kostar ingenting. Läs mer om boendestöd Hemtjänst Hjälp med hushållsysslor och personlig omvårdnad. Hemtjänst är ett stöd för dig som bor i eget boende och behöver hjälp i vardagen. Personerna från hemtjänsten kan till exempel hjälpa dig med att köpa mat packa upp mat städa tvätta duscha. Du kan ha hemtjänst flera gånger per dag, eller bara ibland. Det beror på hur mycket hjälp du behöver. För att få hemtjänst behöver du ett biståndsbeslut. Du betalar en avgift för hemtjänst. Läs mer om hemtjänst Trygg hemgång Stöd efter utskrivning från sjukhus Trygg hemgång är ett stöd för dig som nyligen har varit på sjukhus eller korttidsplats och behöver mycket hjälp, rehabilitering och trygghet när du kommer hem. Genom trygg hemgång kan du få hjälp med vardagssysslor sjukvård i hemmet annat stöd du behöver. För att få trygg hemgång behöver du ett biståndsbeslut. Du betalar en avgift för trygg hemgång. Läs mer om trygg hemgång Trygghetslarm Kalla på hjälp när du behöver. Med ett trygghetslarm kan du kalla på hjälp när du behöver. Du har på dig larmet hela tiden, till exempel runt handleden. När du trycker på larmet får du kontakt med trygghetsjouren. Om det behövs så skickar de hemtjänst hem till dig. Du kan få hjälp närsomhelst – både på dagen och på natten. För att få trygghetslarm behöver du ett biståndsbeslut. Du betalar en avgift för trygghetslarm. Läs mer om trygghetslarm Trygghetskamera Tillsyn med hjälp av kamera i hemmet. Du kan få en trygghetskamera i ditt hem om du behöver tillsyn på natten. Det kan till exempel behövas om det finns risk att du ramlar. Tillsynen via kameran sker ljudlöst och stör inte din nattsömn. Det är personal från Trygghetsjouren som gör tillsynen via kameran. Om det skulle vara något problem med kameran, eller om personalen ser att något har hänt dig, åker de ut och besöker dig. För att få trygghetskamera behöver du ett biståndsbeslut. Kostnaden för trygghetskamera ingår i avgiften för hemtjänst. Läs mer om trygghetskamera Avlösning Stöd från en avlösare istället för stöd från en anhörig. Om du har en anhörig som stöttar dig hemma, kan du ha rätt till avlösning. Avlösning innebär att en person stöttar dig medan din anhöriga gör något annat. Den person som ger dig stöd kallas för avlösare. Din avlösare och du kan ses både i veckan och på helgen, dag eller kväll. För att få avlösning behöver du ett biståndsbeslut. Avlösning kostar ingenting. Läs mer om avlösning Personlig assistans Hjälp stora delar av dygnet. Du som har en funktionsnedsättning och behöver mycket stöd kan ha rätt till personlig assistans. För att få personlig assistans ska du vara yngre än 66 år. Du ska även behöva hjälp med något eller flera av dessa behov: personlig hygien att äta och dricka att klä på och av dig att kommunicera med andra hjälp att förebygga skada vid en psykisk funktionsnedsättning andning medicinsk hjälp som behövs dygnet runt. För att få personlig assistans behöver du ett biståndsbeslut. Personlig assistans kostar inget. Läs mer om personlig assistans Personligt ombud Hjälp med att söka stöd och i kontakt med myndigheter. Ett personligt ombud kan till exempel hjälpa dig att söka stöd och stötta dig när du kontaktar olika myndigheter. Du kan få ett personligt ombud om du är över 18 år har en psykisk funktionsnedsättning har stora svårigheter i din vardag har behov av stöd från socialtjänst, sjukvård och andra myndigheter. Du behöver inget biståndsbeslut för att få personligt ombud. Personligt ombud kostar ingenting. Läs mer om personligt ombud Stöd utanför hemmet Stöd som skapar gemenskap och trygghet utanför bostaden. Det kan handla om att få råd och stöd i vardagen eller att komma iväg på olika aktiviteter. Supportgruppen Rådgivning i vardagen. Supportgruppen kan hjälpa dig som behöver enklare stöd i vardagen. Du kan till exempel få hjälp med att fylla i blanketter och ta kontakt med myndigheter. Hos Supportgruppen kan du också få stöd kring ADHD och autism. Supportgruppen finns för dig som är över 18 år och bor i Uppsala kommun. Du behöver inget biståndsbeslut för att få stöd av Supportteamet och de för inga journaler. Stödet kostar ingenting. Läs mer om Supportgruppen Ledsagning och ledsagarservice Stöd att ta sig till och från platser och aktiviteter. Du som behöver stöd att ta dig till och från platser och aktiviteter kan ha rätt till en ledsagare. En ledsagare kan exempelvis hjälpa dig med att ta dig till och från en aktivitet delta i kultur- och fritidsliv vara delaktig i samhällsliv ha kontakt med andra. För att få ledsagning/ledsagarservice behöver du ett biståndsbeslut. Det kostar inget att ha ledsagning. Läs mer om ledsagning/ledsagarservice Träffpunkter och fritidsaktiviteter Träffa andra och delta i aktiviteter. Kommunen har många olika träffpunkter och fritidsaktiviteter för dig som har psykisk ohälsa eller en funktionsnedsättning. Du kan till exempel träffa andra fika delta i aktiviteter. De flesta träffpunkter är öppna för alla. Du behöver inget beslut för att vara med. Några träffpunkter kräver däremot ett beslut enligt LSS. De flesta aktiviteterna kostar ingenting. Läs mer om träffpunkter och fritidsaktiviteter Korttidstillsyn Fritids för dig mellan 13 och 21 år. Korttidstillsyn är en form av fritids där du kan vara före skolan, efter skolan och på loven. Här finns alltid vuxna som lyssnar och stöttar. Du får göra saker som passar dig. För att få korttidstillsyn behöver du ett biståndsbeslut. Korttidstillsyn kostar ingenting. Läs mer om korttidstillsyn Kontaktperson Socialt stöd i vardagen. En kontaktperson kan hjälpa dig att få sociala kontakter och ge dig stöd och råd i vardagen. För att få kontaktperson behöver du ett biståndsbeslut. Det kostar ingenting att ha en kontaktperson. Läs mer om kontaktperson Arbete och studier Stöd för dig som vill arbeta eller studera. Du kan få hjälp att hitta sysselsättning, praktik, anpassade utbildningar och insatser genom till exempel daglig verksamhet. Daglig verksamhet Jobb för dig med funktionsnedsättning. Daglig verksamhet är ett jobb för dig som har en funktionsnedsättning och tillhör personkrets enligt LSS. Den dagliga verksamheten är lik en vanlig arbetsplats, men med anpassningar efter dina behov och intressen. På en daglig verksamhet kan du exempelvis arbeta med kultur och media djur och natur leveranser. För att få daglig verksamhet behöver du ett biståndsbeslut. Det kostar inget att ha daglig verksamhet. Du får en mindre ersättning varje dag du deltar. Läs mer om daglig verksamhet Sysselsättning socialpsykiatri Sysselsättning och utbildning för dig med psykisk funktionsnedsättning. För dig som har en psykisk funktionsnedsättning finns olika sysselsättningar och utbildningar. Du kan bland annat få lära dig att arbeta i ett kafé renovera laga datorer förpacka produkter. Tillsammans med din handledare bestämmer du tider och innehåll för din sysselsättning. Sysselsättning socialpsykiatri erbjuds i mån av plats. Ibland kan det vara kö. Du behöver inget biståndsbeslut för att delta i sysselsättning socialpsykiatri Sysselsättning socialpsykiatri kostar ingenting. Läs mer om sysselsättning socialpsykiatri (vardochomsorg.uppsala.se) Ung intro Stöd i jobb och studier för dig med psykisk funktionsnedsättning. Ung intro hjälper dig med psykisk funktionsnedsättning att komma närmare arbete eller studier. I Ung intro får du hjälp att hitta dina styrkor. Målet är att du ska tro mer på din egen förmåga. Du kan få hjälp från Ung intro om du är 19–29 år bor i Uppsala kommun har en psykisk funktionsnedsättning som hindrar dig från att hitta arbete eller börja studera på egen hand har aktivitetsersättning eller ekonomiskt bistånd. Du behöver inget biståndsbeslut för att få stöd av Ung intro. Ung intro kostar ingenting. Läs mer om Ung intro IPS arbetscoacher Hjälp att få ett jobb för dig med  psykisk funktionsnedsättning. IPS Arbetscoacher är ett stöd för dig som har en psykisk funktionsnedsättning, och som vill arbeta. Arbetscoachen hjälper dig att hitta, få och behålla ett arbete. Målet är att du ska klara av arbetet utan stöd. Du kan få hjälp från IPS Arbetscoacher om du är motiverad att hitta ett lönearbete är 18–65 år är skriven i Uppsala kommun har en psykisk funktionsnedsättning har en etablerad psykiatrisk kontakt inom psykiatrin eller primärvård godkänner att din arbetscoach har kontakt med psykiatri eller primärvård. Du behöver inget biståndsbeslut för att få stöd av IPS Arbetscoacher. Stödet kostar igenting. Läs mer om IPS Arbetscoacher Stöd i studier Stöd i utbildning för dig med psykisk funktionsnedsättning. Stöd i studier vänder sig till dig som har en psykisk funktionsnedsättning. Genom Stöd i studier får du stöd av en studiecoach att studera och ta dig igenom en utbildning. Målet är att du ska klara dig själv i dina studier. Stöd i studier är för dig som är motiverad att börja studera eller att slutföra pågående studier är vuxen 18–60 år är skriven i Uppsala kommun har en psykisk funktionsnedsättning har en etablerad psykiatrisk kontakt inom psykiatrin eller primärvård godkänner att din studiecoach har kontakt med och samverkar med psykiatri eller primärvård. Du behöver ingen biståndsbeslut för att få stöd i studier. Stöd i studier kostar ingenting. Läs mer om Stöd i studier Olika typer av  boende Det finns flera boendealternativ för dig som har en funktionsnedsättning. Du kan bo kvar hemma eller bo på ett boende med stöd en kortare eller längre tid. Målet är att du ska ha ett  boende som passar dina behov. Hyresrätt Stå i kö för att få en hyresrätt. Om du vill bo i en vanlig hyresrätt kan du ställa dig i en bostadskö hos Uppsala bostadsförmedling. Deras kö är gemensam för flera olika hyresvärdar. Du betalar en årlig avgift för att stå i kön. Du kan få stöd i din egen hyresrätt. Läs mer om Uppsala bostadsförmedling (bostad.uppsala.se) Bostadsanpassningsbidrag Anpassning av din bostad för att kunna bo kvar hemma. Om du har en egen bostad som inte är anpassad efter dina behov kan du ansöka om bostadsanpassningsbidrag. Det är ett ekonomiskt bidrag för att utföra förändringar i din bostad. Du behöver ha en funktionsnedsättning och en permanent bostad för att ansöka. Målet är att du med anpassningar av din boendemiljö ska kunna bo kvar hemma. Du behöver inget biståndsbeslut för att få bostadsanpassningsbidrag. Läs mer om bostadsanpassningsbidrag Korttidsvistelse (LSS) Tillfälligt och återkommande boende med stöd och hjälp. Om du tillhör någon av grupperna i LSS personkrets kan du ha rätt till korttidsvistelse. Korttidsvistelse kan vara aktuellt om du behöver stöd i din vardag och har behov av miljöombyte dina anhöriga behöver avlastning. Korttidsvistelse kan ske för ett enskilt tillfälle, exempelvis ett läger, eller återkommande varje månad. På korttidsvistelsen finns personal som kan ge stöd med omvårdnad och fritidsaktiviteter. För dig mellan 13 och 21 år finns ungdomshelg. Det är ett läger fredag–söndag med roliga aktiviteter och stöd av personal. För att få korttidsvistelse behöver du ett biståndsbeslut. Det kostar inget att ha korttidsvistelse. Du betalar bara för måltider. Läs mer om korttidsvistelse Korttidsboende (SoL) Tillfälligt boende med stöd och hjälp. På ett korttidsboende bor du under en kortare period. Det kan exempelvis vara aktuellt om du behöver rehabilitering efter att ha varit på sjukhus ditt behov av stöd behöver utredas du behöver träna på att bo i eget boende. För att få korttidsboende behöver du ett biståndsabeslut. Du betalar en avgift för korttidsboende. Läs mer om korttidsboende Bostad med särskild service Eget boende med stöd av personal. Bostad med särskild service finns för dig som inte kan bo på egen hand. En bostad med särskild service är anpassad efter dina behov. Det är nära till personal som kan hjälpa dig med omvårdnad och fritidsaktiviteter. Det finns olika typer av bostad med särskild service. Vissa boenden har personal dygnet runt, medan andra har personal vissa tider. För att få bostad med särskild service behöver du ett biståndsbeslut. Du betalar en avgift för bostad med särskild service. Läs mer om bostad med särskild service Sjukvård, rehabilitering och hjälpmedel Du kan få vård, behandling, habilitering och de hjälpmedel du behöver i vardagen. Stödet ges ofta i samarbete med Region Uppsala. Hemsjukvård och rehabilitering Sjukvård och rehabilitering i hemmet. I vissa fall kan du som är sjuk eller behöver rehabilitering få sjukvård i hemmet. Du kan till exempel få hjälp av sjuksköterska, sjukgymnast, fysioterapeut eller arbetsterapeut. I kommunens hemsjukvård ingår inte läkare. Du kan få hemsjukvård om du behöver sjukvårdsinsatser i mer än 14 dagar har fyllt 17 år inte kan ta dig till din vårdcentral på egen hand eller med hjälp. Om du behöver hemsjukvård ska du prata med din läkare, hemtjänstutförare, sjuksköterska, arbetsterapeut, sjukgymnast eller fysioterapeut. Du behöver inget biståndsbeslut för att få hemsjukvård. Du betalar en avgift för hemsjukvård. Läs mer om hemsjukvård och rehabilitering Hjälpmedel Lån av hjälpmedel från kommunen eller regionen. Det finns många olika hjälpmedel att låna för dig som har en funktionsnedsättning. I vissa fall har kommunen ansvar för att låna ut hjälpmedel, i andra fall är det regionen. Om du behöver ett hjälpmedel ska du vända dig till en arbetsterapeut eller en fysioterapeut/sjukgymnast. Det är de som har rätt att förskriva hjälpmedel. Du behöver inget biståndsbeslut för att låna hjälpmedel. Att låna hjälpmedel kostar ingenting. Läs mer om hjälpmedel Tandvårdsstöd (LSS) Lägre avgifter för tandvård och kostnadsfria hembesök av tandhygienist. Du som behöver mycket vård och omsorg under lång tid kan få tandvårdsstöd. Du får då ett intyg som gör att kostnaderna för tandvården blir lägre. Du kan också få gratis hembesök av en tandhygienist en gång om året. Läs mer om tandvårdsstöd (LSS) Stöd för dig som är anhörig Om du hjälper en närstående i vardagen kan du få kostnadsfritt stöd via Anhörigcentrum. Det kan handla om enskilda samtal, gruppträffar eller avlösning i hemmet så att du får tid för dig själv. Stödsamtal Stödsamtal, enskilt och i grupp. Du som anhörig kan få stödsamtal hos Anhörigcentrum. De erbjuder både enskilda samtal och samtal i grupp. Anhörigcentrum stöttar dig som bor i Uppsala kommun och hjälper en närstående som är långvarigt sjuk har en funktionsnedsättning har demenssjukdom eller misstänkt sjukdom. En närstående kan till exempel vara en partner, förälder, barn, syskon eller vän. Du behöver inget biståndsbeslut för att få stöd av Anhörigcentrum. Stödet kostar ingenting. Läs mer om Anhörigcentrum (vardochomsorg.uppsala.se) Egentidsstöd Möjlighet till egen tid för dig som vårdar en närstående. Du som vårdar en närstående i hemmet kan ansöka om egentidsstöd (även kallat avlösning). Det innebär att någon kommer hem till er och ger stöd och hjälp så att du kan lämna hemmet för att koppla av eller göra något på egen hand. Du behöver ingen biståndsbeslut för att få egentidsstöd. Stödet kostar ingenting. Läs om egentidsstöd på Anhörigcentrums webbplats (vardochomsorg.uppsala.se) Resor och parkering Du kan få hjälp med resor till vårdbesök och aktiviteter, både inom kommunen och vid längre sträckor. Färdtjänst och riksfärdtjänst Resor för dig med funktionsnedsättning. Att åka färdtjänst eller riksfärdtjänst är ungefär som att åka taxi. Skillnaden är att bilarna är bättre utrustade för personer med rörelsehinder, och att du betalar mindre. Färdtjänst är resor inom kommunen. Riksfärdtjänst är resor utanför kommunen. När du åker färdtjänst kan du antingen åka ensam med chauffören, eller tillsammans med andra personer. För att ansöka om färdtjänst ska du ha en funktionsnedsättning som gör det väldigt svårt för dig att förflytta dig eller resa med kollektivtrafik (buss eller tåg) ha en funktionsnedsättning som inte är tillfällig vara folkbokförd i Uppsala kommun. Du behöver inget biståndsbeslut för att få färdtjänst eller riksfärdtjänst. Läs mer om färdtjänst och riksfärdtjänst Parkeringstillstånd för rörelsehindrade Rätt att parkera på fler platser och under längre tid. Du som har mycket svårt att förflytta dig till och från ett fordon kan ha rätt till ett parkeringstillstånd för rörelsehindrade. Med parkeringstillståndet får du parkera på fler platser, och längre tid. Tillståndet kan gälla antingen den som kör eller den som åker med. Du behöver inget biståndsbeslut för att få ett parkeringstillstånd för rörelsehindrade. Parkeringstillståndet kostar ingenting Läs mer om parkeringstillstånd för rörelsehindrade Sjukresor Res billigare, eller gratis, till besök inom sjukvården. Om du har ett bokat besök hos sjukvården i Uppsala län kan du resa billigare eller gratis genom sjukresor. Det är region Uppsala som har hand om sjukresor. Om du reser med buss eller tåg är resan gratis. Du kan ta med dig en person som också reser gratis. Om du inte kan resa med buss kan du ta egen bil eller taxi. Då betalar du aldrig mer än 140 kronor. Du behöver inget biståndsbeslut för att få sjukresor. Läs mer om sjukresor på Region Uppsalas webbplats (regionuppsala.se) Resa till och från anpassad skola Resor med buss eller skoltaxi till och från skolan. Du kan ha rätt till skolskjuts mellan hemmet och skolan om du går i anpassad grundskola eller anpassad gymnasieskola. Skolskjuts sker med buss eller skoltaxi. Du ansöker om skolskjuts hos enheten Utbildningsförvaltningen skolskjuts. Ansökan görs för ett år i taget. Du behöver inget biståndsbeslut för att få resor till och från anpassad skola. Resorna kostar ingenting. Läs mer om att resa till och från anpassad skola Resa till och från daglig verksamhet Resor med bil till och från daglig verksamhet. Du kan åka gratis till och från daglig verksamhet om du har svårt att förflytta dig. Du kan få två resor per dag. Resorna sker med bil. För att få gratis resor till och från daglig verksamhet behöver du skicka in en ansökan. Du behöver inget biståndsbeslut för att få resor till och från daglig verksamhet. Resorna kostar ingenting. Läs mer om resor till och från daglig verksamhet Bilstöd Bidrag för att anpassa bilen efter behov. Bilstöd är ett ekonomiskt bidrag. Det betyder att du får pengar för att kunna anpassa din bil efter dina behov. Bilstöd finns för dig som har en funktionsnedsättning och har stora svårigheter att förflytta dig. Det är Försäkringskassan som beslutar om du har rätt till bilstöd. Läs mer om bilstöd på Försäkringskassans webbplats (forsakringskassan.se) Om ansökan och stöd enligt lagen Så söker du stöd Du som behöver stöd i din vardag är välkommen att kontakta kommunens biståndshandläggare. Läs om hur du gör i vår guide. Stöd enligt lagen Det finns två lagar som bestämmer vilket stöd du kan få om du har en funktionsnedsättning: lagen om stöd och service till vissa funktionshindrade (LSS) och socialtjänstlagen (SoL). Har du frågor? Prata med oss! Kontakta oss på Uppsala kommun Du är alltid välkommen att kontakta oss! Vi som svarar är biståndshandläggare. Vi kan ge dig information och vägledning om stöd som finns för dig som har en funktionsnedsättning. E-post omsorg@uppsala.se Telefon och telefontider 018-727 06 80 måndag 9.00–11.30 tisdag 13.00–15.30 onsdag-fredag 9.00–11.30 Hitta fler kontaktvägar Det finns många olika verksamheter i Uppsala kommun som kan ge dig stöd. \n",
      "På de här sidorna hittar du mer information. Kortadress till sidan: uppsala.se/funktionsnedsattning-insatser Senast uppdaterad: 23 september 2025 Lämna synpunkter för denna sida Hade du nytta av innehållet på denna sida? Nej Aktivera JavaScript i webbläsaren för att kunna lämna synpunkter. Kommentar Tack för ditt svar! Vill ej kommentera Tack för din Feedback! Kontakt Kontaktcenter: 018-727 00 00 E-post: uppsala.kommun@uppsala.se Fler kontaktvägar Pressrum Nyheter och pressmeddelanden Om webbplatsen Om webbplatsen Allmänna handlingar och diarium Behandling av personuppgifter Kakor Språk (other languages) Tillgänglighetsredogörelse Fler sätt att följa oss Till toppen av sidan\n"
     ]
    }
   ],
   "source": [
    "print(docs[0].page_content[:50000])"
   ]
  },
  {
   "cell_type": "code",
   "execution_count": null,
   "id": "f0e9132d-82e4-4059-a1ae-0816ed0f1ebf",
   "metadata": {},
   "outputs": [
    {
     "name": "stdout",
     "output_type": "stream",
     "text": [
      "Split blog post into 31 sub-documents.\n"
     ]
    }
   ],
   "source": [
    "import bs4\n",
    "from langchain import hub\n",
    "from langchain_community.document_loaders import WebBaseLoader\n",
    "from langchain_core.documents import Document\n",
    "from langchain_text_splitters import RecursiveCharacterTextSplitter\n",
    "from langgraph.graph import START, StateGraph\n",
    "from typing_extensions import List, TypedDict\n",
    "import hashlib\n",
    "\n",
    "def hash_text(text):\n",
    "    return hashlib.md5(text.encode()).hexdigest()\n",
    "\n",
    "text_splitter = RecursiveCharacterTextSplitter(\n",
    "    chunk_size=1000,  # chunk size (characters)\n",
    "    chunk_overlap=200,  # chunk overlap (characters)\n",
    "    add_start_index=True,  # track index in original document\n",
    ")\n",
    "all_splits = text_splitter.split_documents(docs)\n",
    "\n",
    "\n",
    "text_splitter = RecursiveCharacterTextSplitter(chunk_size=1000, chunk_overlap=200)\n",
    "all_splits = text_splitter.split_documents(docs)\n",
    "\n",
    "print(f\"Split blog post into {len(all_splits)} sub-documents.\")\n",
    "\n",
    "#for doc in all_splits:\n",
    "#    doc.metadata[\"doc_id\"] = hash_text(doc.page_content)\n",
    "\n",
    "# Index chunks\n",
    "_ = vector_store.add_documents(documents=all_splits)"
   ]
  },
  {
   "cell_type": "code",
   "execution_count": 6,
   "id": "709e5dc7-71ba-4152-b9d2-335175beccb8",
   "metadata": {},
   "outputs": [
    {
     "name": "stderr",
     "output_type": "stream",
     "text": [
      "USER_AGENT environment variable not set, consider setting it to identify your requests.\n"
     ]
    }
   ],
   "source": [
    "import bs4\n",
    "from langchain import hub\n",
    "from langchain_community.document_loaders import WebBaseLoader\n",
    "from langchain_core.documents import Document\n",
    "from langchain_text_splitters import RecursiveCharacterTextSplitter\n",
    "from langgraph.graph import START, StateGraph\n",
    "from typing_extensions import List, TypedDict\n",
    "from langchain_core.prompts import PromptTemplate\n",
    "\n",
    "# Define prompt for question-answering\n",
    "\n",
    "\n",
    "template = \"\"\"Use the following pieces of context to answer the question at the end.\n",
    "The context documents are in Swedish, but it is very important that you answer in the same language that the question is in.\n",
    "If you don't know the answer, just say that you don't know, don't try to make up an answer.\n",
    "A paragraph is an ideal length. Two paragraphs is acceptable if necessary.\n",
    "\n",
    "\n",
    "{context}\n",
    "\n",
    "Question: {question}\n",
    "\n",
    "Helpful Answer:\"\"\"\n",
    "prompt = PromptTemplate.from_template(template)\n",
    "\n",
    "\n",
    "from langgraph.graph import MessagesState, StateGraph\n",
    "\n",
    "graph_builder = StateGraph(MessagesState)"
   ]
  },
  {
   "cell_type": "code",
   "execution_count": 7,
   "id": "d8909756",
   "metadata": {},
   "outputs": [],
   "source": [
    "from langchain_core.tools import tool\n",
    "\n",
    "\n",
    "@tool(response_format=\"content_and_artifact\")\n",
    "def retrieve(query: str):\n",
    "    \"\"\"Retrieve information related to a query.\"\"\"\n",
    "    retrieved_docs = vector_store.similarity_search(query, k=2)\n",
    "    serialized = \"\\n\\n\".join(\n",
    "        (f\"Source: {doc.metadata}\\nContent: {doc.page_content}\")\n",
    "        for doc in retrieved_docs\n",
    "    )\n",
    "    return serialized, retrieved_docs\n",
    "\n",
    "from langchain_core.messages import SystemMessage\n",
    "from langgraph.prebuilt import ToolNode\n",
    "\n",
    "\n",
    "# Step 1: Generate an AIMessage that may include a tool-call to be sent.\n",
    "def query_or_respond(state: MessagesState):\n",
    "    \"\"\"Generate tool call for retrieval or respond.\"\"\"\n",
    "    llm_with_tools = llm.bind_tools([retrieve])\n",
    "    response = llm_with_tools.invoke(state[\"messages\"])\n",
    "    # MessagesState appends messages to state instead of overwriting\n",
    "    return {\"messages\": [response]}\n",
    "\n",
    "\n",
    "# Step 2: Execute the retrieval.\n",
    "tools = ToolNode([retrieve])\n",
    "\n",
    "\n",
    "# Step 3: Generate a response using the retrieved content.\n",
    "def generate(state: MessagesState):\n",
    "    \"\"\"Generate answer.\"\"\"\n",
    "    # Get generated ToolMessages\n",
    "    recent_tool_messages = []\n",
    "    for message in reversed(state[\"messages\"]):\n",
    "        if message.type == \"tool\":\n",
    "            recent_tool_messages.append(message)\n",
    "        else:\n",
    "            break\n",
    "    tool_messages = recent_tool_messages[::-1]\n",
    "\n",
    "    # Format into prompt\n",
    "    docs_content = \"\\n\\n\".join(doc.content for doc in tool_messages)\n",
    "    system_message_content = (\n",
    "        \"You are an assistant for question-answering tasks. \"\n",
    "        \"Use the following pieces of retrieved context to answer \"\n",
    "        \"the question. If you don't know the answer, say that you \"\n",
    "        \"don't know. Use three sentences maximum and keep the \"\n",
    "        \"answer concise. The context documents are in Swedish, but it is very important that you answer in the same language that the question is in.\"\n",
    "        \"\\n\\n\"\n",
    "        f\"{docs_content}\"\n",
    "    )\n",
    "    conversation_messages = [\n",
    "        message\n",
    "        for message in state[\"messages\"]\n",
    "        if message.type in (\"human\", \"system\")\n",
    "        or (message.type == \"ai\" and not message.tool_calls)\n",
    "    ]\n",
    "    prompt = [SystemMessage(system_message_content)] + conversation_messages\n",
    "\n",
    "    # Run\n",
    "    response = llm.invoke(prompt)\n",
    "    return {\"messages\": [response]}\n",
    "\n",
    "\n",
    "from langgraph.graph import END\n",
    "from langgraph.prebuilt import ToolNode, tools_condition\n",
    "\n",
    "graph_builder.add_node(query_or_respond)\n",
    "graph_builder.add_node(tools)\n",
    "graph_builder.add_node(generate)\n",
    "\n",
    "graph_builder.set_entry_point(\"query_or_respond\")\n",
    "graph_builder.add_conditional_edges(\n",
    "    \"query_or_respond\",\n",
    "    tools_condition,\n",
    "    {END: END, \"tools\": \"tools\"},\n",
    ")\n",
    "graph_builder.add_edge(\"tools\", \"generate\")\n",
    "graph_builder.add_edge(\"generate\", END)\n",
    "\n",
    "graph = graph_builder.compile()"
   ]
  },
  {
   "cell_type": "code",
   "execution_count": 8,
   "id": "bdd4cfc6",
   "metadata": {},
   "outputs": [],
   "source": [
    "from langgraph.checkpoint.memory import MemorySaver\n",
    "\n",
    "memory = MemorySaver()\n",
    "graph = graph_builder.compile(checkpointer=memory)\n",
    "\n",
    "# Specify an ID for the thread\n",
    "config = {\"configurable\": {\"thread_id\": \"abc123\"}}"
   ]
  },
  {
   "cell_type": "code",
   "execution_count": 9,
   "id": "f0c49523",
   "metadata": {},
   "outputs": [
    {
     "name": "stdout",
     "output_type": "stream",
     "text": [
      "================================\u001b[1m Human Message \u001b[0m=================================\n",
      "\n",
      "What support is there for children with disabilities?\n",
      "==================================\u001b[1m Ai Message \u001b[0m==================================\n",
      "Tool Calls:\n",
      "  retrieve (9f089ab5-41b9-472d-a451-0b91fbb1c41b)\n",
      " Call ID: 9f089ab5-41b9-472d-a451-0b91fbb1c41b\n",
      "  Args:\n",
      "    query: support for children with disabilities\n",
      "=================================\u001b[1m Tool Message \u001b[0m=================================\n",
      "Name: retrieve\n",
      "\n",
      "Source: {'title': 'Stöd och omsorg för dig med funktionsnedsättning - Uppsala kommun', 'language': 'sv', 'source': 'https://www.uppsala.se/stod-och-omsorg/funktionsnedsattning/stod-och-omsorg-for-dig-med-funktionsnedsattning/'}\n",
      "Content: Läs mer om träffpunkter och fritidsaktiviteter Korttidstillsyn Fritids för dig mellan 13 och 21 år. Korttidstillsyn är en form av fritids där du kan vara före skolan, efter skolan och på loven. Här finns alltid vuxna som lyssnar och stöttar. Du får göra saker som passar dig. För att få korttidstillsyn behöver du ett biståndsbeslut. Korttidstillsyn kostar ingenting. Läs mer om korttidstillsyn Kontaktperson Socialt stöd i vardagen. En kontaktperson kan hjälpa dig att få sociala kontakter och ge dig stöd och råd i vardagen. För att få kontaktperson behöver du ett biståndsbeslut. Det kostar ingenting att ha en kontaktperson. Läs mer om kontaktperson Arbete och studier Stöd för dig som vill arbeta eller studera. Du kan få hjälp att hitta sysselsättning, praktik, anpassade utbildningar och insatser genom till exempel daglig verksamhet. Daglig verksamhet Jobb för dig med funktionsnedsättning. Daglig verksamhet är ett jobb för dig som har en funktionsnedsättning och tillhör personkrets enligt\n",
      "\n",
      "Source: {'source': 'https://www.uppsala.se/stod-och-omsorg/funktionsnedsattning/stod-och-omsorg-for-dig-med-funktionsnedsattning/', 'language': 'sv', 'title': 'Stöd och omsorg för dig med funktionsnedsättning - Uppsala kommun'}\n",
      "Content: skolan. Du kan ha rätt till skolskjuts mellan hemmet och skolan om du går i anpassad grundskola eller anpassad gymnasieskola. Skolskjuts sker med buss eller skoltaxi. Du ansöker om skolskjuts hos enheten Utbildningsförvaltningen skolskjuts. Ansökan görs för ett år i taget. Du behöver inget biståndsbeslut för att få resor till och från anpassad skola. Resorna kostar ingenting. Läs mer om att resa till och från anpassad skola Resa till och från daglig verksamhet Resor med bil till och från daglig verksamhet. Du kan åka gratis till och från daglig verksamhet om du har svårt att förflytta dig. Du kan få två resor per dag. Resorna sker med bil. För att få gratis resor till och från daglig verksamhet behöver du skicka in en ansökan. Du behöver inget biståndsbeslut för att få resor till och från daglig verksamhet. Resorna kostar ingenting. Läs mer om resor till och från daglig verksamhet Bilstöd Bidrag för att anpassa bilen efter behov. Bilstöd är ett ekonomiskt bidrag. Det betyder att du\n",
      "==================================\u001b[1m Ai Message \u001b[0m==================================\n",
      "\n",
      "Uppsala municipality offers short-term supervision (korttidstillsyn) for young people aged 13 to 21, providing care before and after school, and during holidays. School transport (skolskjuts) is available for children attending adapted primary or high schools. Additionally, a contact person can provide social support and advice in everyday life.\n"
     ]
    }
   ],
   "source": [
    "input_message = \"What support is there for children with disabilities?\"\n",
    "\n",
    "for step in graph.stream(\n",
    "    {\"messages\": [{\"role\": \"user\", \"content\": input_message}]},\n",
    "    stream_mode=\"values\",\n",
    "    config=config,\n",
    "):\n",
    "    step[\"messages\"][-1].pretty_print()"
   ]
  },
  {
   "cell_type": "code",
   "execution_count": 10,
   "id": "c7a0e0c7",
   "metadata": {},
   "outputs": [
    {
     "name": "stdout",
     "output_type": "stream",
     "text": [
      "================================\u001b[1m Human Message \u001b[0m=================================\n",
      "\n",
      "contact person?\n",
      "==================================\u001b[1m Ai Message \u001b[0m==================================\n",
      "Tool Calls:\n",
      "  retrieve (927f4843-8bd6-4c79-a50e-f2dcd9e42f28)\n",
      " Call ID: 927f4843-8bd6-4c79-a50e-f2dcd9e42f28\n",
      "  Args:\n",
      "    query: contact person support for children with disabilities\n",
      "=================================\u001b[1m Tool Message \u001b[0m=================================\n",
      "Name: retrieve\n",
      "\n",
      "Source: {'source': 'https://www.uppsala.se/stod-och-omsorg/funktionsnedsattning/stod-och-omsorg-for-dig-med-funktionsnedsattning/', 'language': 'sv', 'title': 'Stöd och omsorg för dig med funktionsnedsättning - Uppsala kommun'}\n",
      "Content: stöd och service till vissa funktionshindrade (LSS) och socialtjänstlagen (SoL). Har du frågor? Prata med oss! Kontakta oss på Uppsala kommun Du är alltid välkommen att kontakta oss! Vi som svarar är biståndshandläggare. Vi kan ge dig information och vägledning om stöd som finns för dig som har en funktionsnedsättning. E-post omsorg@uppsala.se Telefon och telefontider 018-727 06 80 måndag 9.00–11.30 tisdag 13.00–15.30 onsdag-fredag 9.00–11.30 Hitta fler kontaktvägar Det finns många olika verksamheter i Uppsala kommun som kan ge dig stöd.\n",
      "\n",
      "Source: {'source': 'https://www.uppsala.se/stod-och-omsorg/funktionsnedsattning/stod-och-omsorg-for-dig-med-funktionsnedsattning/', 'language': 'sv', 'title': 'Stöd och omsorg för dig med funktionsnedsättning - Uppsala kommun'}\n",
      "Content: Läs mer om träffpunkter och fritidsaktiviteter Korttidstillsyn Fritids för dig mellan 13 och 21 år. Korttidstillsyn är en form av fritids där du kan vara före skolan, efter skolan och på loven. Här finns alltid vuxna som lyssnar och stöttar. Du får göra saker som passar dig. För att få korttidstillsyn behöver du ett biståndsbeslut. Korttidstillsyn kostar ingenting. Läs mer om korttidstillsyn Kontaktperson Socialt stöd i vardagen. En kontaktperson kan hjälpa dig att få sociala kontakter och ge dig stöd och råd i vardagen. För att få kontaktperson behöver du ett biståndsbeslut. Det kostar ingenting att ha en kontaktperson. Läs mer om kontaktperson Arbete och studier Stöd för dig som vill arbeta eller studera. Du kan få hjälp att hitta sysselsättning, praktik, anpassade utbildningar och insatser genom till exempel daglig verksamhet. Daglig verksamhet Jobb för dig med funktionsnedsättning. Daglig verksamhet är ett jobb för dig som har en funktionsnedsättning och tillhör personkrets enligt\n",
      "==================================\u001b[1m Ai Message \u001b[0m==================================\n",
      "\n",
      "A contact person provides social support and advice in daily life, helping individuals gain social contacts. To receive this support, an assistance decision (biståndsbeslut) is required. There is no cost associated with having a contact person.\n"
     ]
    }
   ],
   "source": [
    "input_message = \"contact person?\"\n",
    "\n",
    "for step in graph.stream(\n",
    "    {\"messages\": [{\"role\": \"user\", \"content\": input_message}]},\n",
    "    stream_mode=\"values\",\n",
    "    config=config,\n",
    "):\n",
    "    step[\"messages\"][-1].pretty_print()"
   ]
  },
  {
   "cell_type": "code",
   "execution_count": 1,
   "id": "bcc7fe86",
   "metadata": {},
   "outputs": [
    {
     "ename": "NameError",
     "evalue": "name 'graph' is not defined",
     "output_type": "error",
     "traceback": [
      "\u001b[31m---------------------------------------------------------------------------\u001b[39m",
      "\u001b[31mNameError\u001b[39m                                 Traceback (most recent call last)",
      "\u001b[36mCell\u001b[39m\u001b[36m \u001b[39m\u001b[32mIn[1]\u001b[39m\u001b[32m, line 16\u001b[39m\n\u001b[32m     14\u001b[39m os.environ[\u001b[33m\"\u001b[39m\u001b[33mGRPC_VERBOSITY\u001b[39m\u001b[33m\"\u001b[39m] = \u001b[33m\"\u001b[39m\u001b[33mERROR\u001b[39m\u001b[33m\"\u001b[39m\n\u001b[32m     15\u001b[39m os.environ[\u001b[33m\"\u001b[39m\u001b[33mGRPC_LOG_SEVERITY_LEVEL\u001b[39m\u001b[33m\"\u001b[39m] = \u001b[33m\"\u001b[39m\u001b[33mERROR\u001b[39m\u001b[33m\"\u001b[39m\n\u001b[32m---> \u001b[39m\u001b[32m16\u001b[39m result = \u001b[43mgraph\u001b[49m.invoke({\u001b[33m\"\u001b[39m\u001b[33mquestion\u001b[39m\u001b[33m\"\u001b[39m: \u001b[33m\"\u001b[39m\u001b[33mWhat support is there for children with disabilities?\u001b[39m\u001b[33m\"\u001b[39m})\n\u001b[32m     18\u001b[39m \u001b[38;5;28mprint\u001b[39m(\u001b[33mf\u001b[39m\u001b[33m\"\u001b[39m\u001b[33mContext: \u001b[39m\u001b[38;5;132;01m{\u001b[39;00mresult[\u001b[33m'\u001b[39m\u001b[33mcontext\u001b[39m\u001b[33m'\u001b[39m]\u001b[38;5;132;01m}\u001b[39;00m\u001b[38;5;130;01m\\n\u001b[39;00m\u001b[38;5;130;01m\\n\u001b[39;00m\u001b[33m\"\u001b[39m)\n\u001b[32m     19\u001b[39m \u001b[38;5;28mprint\u001b[39m(\u001b[33mf\u001b[39m\u001b[33m\"\u001b[39m\u001b[33mAnswer: \u001b[39m\u001b[38;5;132;01m{\u001b[39;00mresult[\u001b[33m'\u001b[39m\u001b[33manswer\u001b[39m\u001b[33m'\u001b[39m]\u001b[38;5;132;01m}\u001b[39;00m\u001b[33m\"\u001b[39m)\n",
      "\u001b[31mNameError\u001b[39m: name 'graph' is not defined"
     ]
    }
   ],
   "source": [
    "import os, logging\n",
    "\n",
    "# LangSmith / LangChain tracing off\n",
    "os.environ[\"LANGCHAIN_TRACING_V2\"] = \"false\"\n",
    "os.environ.pop(\"LANGCHAIN_API_KEY\", None)\n",
    "os.environ.pop(\"LANGCHAIN_PROJECT\", None)\n",
    "os.environ.pop(\"LANGCHAIN_ENDPOINT\", None)\n",
    "\n",
    "# Quiet loggers\n",
    "logging.getLogger(\"langsmith\").setLevel(logging.ERROR)\n",
    "logging.getLogger(\"urllib3\").setLevel(logging.ERROR)\n",
    "\n",
    "# Quiet gRPC\n",
    "os.environ[\"GRPC_VERBOSITY\"] = \"ERROR\"\n",
    "os.environ[\"GRPC_LOG_SEVERITY_LEVEL\"] = \"ERROR\"\n",
    "result = graph.invoke({\"question\": \"What support is there for children with disabilities?\"})\n",
    "\n",
    "print(f\"Context: {result['context']}\\n\\n\")\n",
    "print(f\"Answer: {result['answer']}\")"
   ]
  }
 ],
 "metadata": {
  "kernelspec": {
   "display_name": "uu_hax (3.12.11)",
   "language": "python",
   "name": "python3"
  },
  "language_info": {
   "codemirror_mode": {
    "name": "ipython",
    "version": 3
   },
   "file_extension": ".py",
   "mimetype": "text/x-python",
   "name": "python",
   "nbconvert_exporter": "python",
   "pygments_lexer": "ipython3",
   "version": "3.12.11"
  }
 },
 "nbformat": 4,
 "nbformat_minor": 5
}
